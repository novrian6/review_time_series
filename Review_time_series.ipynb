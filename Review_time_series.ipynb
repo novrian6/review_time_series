{
  "nbformat": 4,
  "nbformat_minor": 0,
  "metadata": {
    "colab": {
      "provenance": [],
      "authorship_tag": "ABX9TyMFMApWubljPNhJpAaABX+e",
      "include_colab_link": true
    },
    "kernelspec": {
      "name": "python3",
      "display_name": "Python 3"
    },
    "language_info": {
      "name": "python"
    }
  },
  "cells": [
    {
      "cell_type": "markdown",
      "metadata": {
        "id": "view-in-github",
        "colab_type": "text"
      },
      "source": [
        "<a href=\"https://colab.research.google.com/github/novrian6/review_time_series/blob/main/Review_time_series.ipynb\" target=\"_parent\"><img src=\"https://colab.research.google.com/assets/colab-badge.svg\" alt=\"Open In Colab\"/></a>"
      ]
    },
    {
      "cell_type": "code",
      "source": [
        "import yfinance as yf  # Yahoo Finance API\n",
        "import numpy as np\n",
        "import pandas as pd\n",
        "import tensorflow as tf\n",
        "from tensorflow.keras.models import Sequential\n",
        "from tensorflow.keras.layers import LSTM, Dense\n",
        "from sklearn.preprocessing import MinMaxScaler\n",
        "\n",
        "# Download stock market data from Yahoo Finance for Apple (AAPL) from 2010 to 2020\n",
        "data = yf.download('AAPL', start='2010-01-01', end='2020-01-01', progress=False)"
      ],
      "metadata": {
        "id": "wjzjnidkFRvI"
      },
      "execution_count": null,
      "outputs": []
    },
    {
      "cell_type": "code",
      "source": [
        "data"
      ],
      "metadata": {
        "colab": {
          "base_uri": "https://localhost:8080/",
          "height": 455
        },
        "id": "nS-_QWpeFZSE",
        "outputId": "6e3390c2-3899-40fd-a8e0-6df308cd8c26"
      },
      "execution_count": null,
      "outputs": [
        {
          "output_type": "execute_result",
          "data": {
            "text/plain": [
              "                 Open       High        Low      Close  Adj Close     Volume\n",
              "Date                                                                        \n",
              "2010-01-04   7.622500   7.660714   7.585000   7.643214   6.487534  493729600\n",
              "2010-01-05   7.664286   7.699643   7.616071   7.656429   6.498750  601904800\n",
              "2010-01-06   7.656429   7.686786   7.526786   7.534643   6.395379  552160000\n",
              "2010-01-07   7.562500   7.571429   7.466071   7.520714   6.383557  477131200\n",
              "2010-01-08   7.510714   7.571429   7.466429   7.570714   6.425994  447610800\n",
              "...               ...        ...        ...        ...        ...        ...\n",
              "2019-12-24  71.172501  71.222504  70.730003  71.067497  69.327454   48478800\n",
              "2019-12-26  71.205002  72.495003  71.175003  72.477501  70.702934   93121200\n",
              "2019-12-27  72.779999  73.492500  72.029999  72.449997  70.676125  146266000\n",
              "2019-12-30  72.364998  73.172501  71.305000  72.879997  71.095566  144114400\n",
              "2019-12-31  72.482498  73.419998  72.379997  73.412498  71.615028  100805600\n",
              "\n",
              "[2516 rows x 6 columns]"
            ],
            "text/html": [
              "\n",
              "  <div id=\"df-99fc42d6-2ddf-403c-ae29-d6c5708d6ca0\" class=\"colab-df-container\">\n",
              "    <div>\n",
              "<style scoped>\n",
              "    .dataframe tbody tr th:only-of-type {\n",
              "        vertical-align: middle;\n",
              "    }\n",
              "\n",
              "    .dataframe tbody tr th {\n",
              "        vertical-align: top;\n",
              "    }\n",
              "\n",
              "    .dataframe thead th {\n",
              "        text-align: right;\n",
              "    }\n",
              "</style>\n",
              "<table border=\"1\" class=\"dataframe\">\n",
              "  <thead>\n",
              "    <tr style=\"text-align: right;\">\n",
              "      <th></th>\n",
              "      <th>Open</th>\n",
              "      <th>High</th>\n",
              "      <th>Low</th>\n",
              "      <th>Close</th>\n",
              "      <th>Adj Close</th>\n",
              "      <th>Volume</th>\n",
              "    </tr>\n",
              "    <tr>\n",
              "      <th>Date</th>\n",
              "      <th></th>\n",
              "      <th></th>\n",
              "      <th></th>\n",
              "      <th></th>\n",
              "      <th></th>\n",
              "      <th></th>\n",
              "    </tr>\n",
              "  </thead>\n",
              "  <tbody>\n",
              "    <tr>\n",
              "      <th>2010-01-04</th>\n",
              "      <td>7.622500</td>\n",
              "      <td>7.660714</td>\n",
              "      <td>7.585000</td>\n",
              "      <td>7.643214</td>\n",
              "      <td>6.487534</td>\n",
              "      <td>493729600</td>\n",
              "    </tr>\n",
              "    <tr>\n",
              "      <th>2010-01-05</th>\n",
              "      <td>7.664286</td>\n",
              "      <td>7.699643</td>\n",
              "      <td>7.616071</td>\n",
              "      <td>7.656429</td>\n",
              "      <td>6.498750</td>\n",
              "      <td>601904800</td>\n",
              "    </tr>\n",
              "    <tr>\n",
              "      <th>2010-01-06</th>\n",
              "      <td>7.656429</td>\n",
              "      <td>7.686786</td>\n",
              "      <td>7.526786</td>\n",
              "      <td>7.534643</td>\n",
              "      <td>6.395379</td>\n",
              "      <td>552160000</td>\n",
              "    </tr>\n",
              "    <tr>\n",
              "      <th>2010-01-07</th>\n",
              "      <td>7.562500</td>\n",
              "      <td>7.571429</td>\n",
              "      <td>7.466071</td>\n",
              "      <td>7.520714</td>\n",
              "      <td>6.383557</td>\n",
              "      <td>477131200</td>\n",
              "    </tr>\n",
              "    <tr>\n",
              "      <th>2010-01-08</th>\n",
              "      <td>7.510714</td>\n",
              "      <td>7.571429</td>\n",
              "      <td>7.466429</td>\n",
              "      <td>7.570714</td>\n",
              "      <td>6.425994</td>\n",
              "      <td>447610800</td>\n",
              "    </tr>\n",
              "    <tr>\n",
              "      <th>...</th>\n",
              "      <td>...</td>\n",
              "      <td>...</td>\n",
              "      <td>...</td>\n",
              "      <td>...</td>\n",
              "      <td>...</td>\n",
              "      <td>...</td>\n",
              "    </tr>\n",
              "    <tr>\n",
              "      <th>2019-12-24</th>\n",
              "      <td>71.172501</td>\n",
              "      <td>71.222504</td>\n",
              "      <td>70.730003</td>\n",
              "      <td>71.067497</td>\n",
              "      <td>69.327454</td>\n",
              "      <td>48478800</td>\n",
              "    </tr>\n",
              "    <tr>\n",
              "      <th>2019-12-26</th>\n",
              "      <td>71.205002</td>\n",
              "      <td>72.495003</td>\n",
              "      <td>71.175003</td>\n",
              "      <td>72.477501</td>\n",
              "      <td>70.702934</td>\n",
              "      <td>93121200</td>\n",
              "    </tr>\n",
              "    <tr>\n",
              "      <th>2019-12-27</th>\n",
              "      <td>72.779999</td>\n",
              "      <td>73.492500</td>\n",
              "      <td>72.029999</td>\n",
              "      <td>72.449997</td>\n",
              "      <td>70.676125</td>\n",
              "      <td>146266000</td>\n",
              "    </tr>\n",
              "    <tr>\n",
              "      <th>2019-12-30</th>\n",
              "      <td>72.364998</td>\n",
              "      <td>73.172501</td>\n",
              "      <td>71.305000</td>\n",
              "      <td>72.879997</td>\n",
              "      <td>71.095566</td>\n",
              "      <td>144114400</td>\n",
              "    </tr>\n",
              "    <tr>\n",
              "      <th>2019-12-31</th>\n",
              "      <td>72.482498</td>\n",
              "      <td>73.419998</td>\n",
              "      <td>72.379997</td>\n",
              "      <td>73.412498</td>\n",
              "      <td>71.615028</td>\n",
              "      <td>100805600</td>\n",
              "    </tr>\n",
              "  </tbody>\n",
              "</table>\n",
              "<p>2516 rows × 6 columns</p>\n",
              "</div>\n",
              "    <div class=\"colab-df-buttons\">\n",
              "\n",
              "  <div class=\"colab-df-container\">\n",
              "    <button class=\"colab-df-convert\" onclick=\"convertToInteractive('df-99fc42d6-2ddf-403c-ae29-d6c5708d6ca0')\"\n",
              "            title=\"Convert this dataframe to an interactive table.\"\n",
              "            style=\"display:none;\">\n",
              "\n",
              "  <svg xmlns=\"http://www.w3.org/2000/svg\" height=\"24px\" viewBox=\"0 -960 960 960\">\n",
              "    <path d=\"M120-120v-720h720v720H120Zm60-500h600v-160H180v160Zm220 220h160v-160H400v160Zm0 220h160v-160H400v160ZM180-400h160v-160H180v160Zm440 0h160v-160H620v160ZM180-180h160v-160H180v160Zm440 0h160v-160H620v160Z\"/>\n",
              "  </svg>\n",
              "    </button>\n",
              "\n",
              "  <style>\n",
              "    .colab-df-container {\n",
              "      display:flex;\n",
              "      gap: 12px;\n",
              "    }\n",
              "\n",
              "    .colab-df-convert {\n",
              "      background-color: #E8F0FE;\n",
              "      border: none;\n",
              "      border-radius: 50%;\n",
              "      cursor: pointer;\n",
              "      display: none;\n",
              "      fill: #1967D2;\n",
              "      height: 32px;\n",
              "      padding: 0 0 0 0;\n",
              "      width: 32px;\n",
              "    }\n",
              "\n",
              "    .colab-df-convert:hover {\n",
              "      background-color: #E2EBFA;\n",
              "      box-shadow: 0px 1px 2px rgba(60, 64, 67, 0.3), 0px 1px 3px 1px rgba(60, 64, 67, 0.15);\n",
              "      fill: #174EA6;\n",
              "    }\n",
              "\n",
              "    .colab-df-buttons div {\n",
              "      margin-bottom: 4px;\n",
              "    }\n",
              "\n",
              "    [theme=dark] .colab-df-convert {\n",
              "      background-color: #3B4455;\n",
              "      fill: #D2E3FC;\n",
              "    }\n",
              "\n",
              "    [theme=dark] .colab-df-convert:hover {\n",
              "      background-color: #434B5C;\n",
              "      box-shadow: 0px 1px 3px 1px rgba(0, 0, 0, 0.15);\n",
              "      filter: drop-shadow(0px 1px 2px rgba(0, 0, 0, 0.3));\n",
              "      fill: #FFFFFF;\n",
              "    }\n",
              "  </style>\n",
              "\n",
              "    <script>\n",
              "      const buttonEl =\n",
              "        document.querySelector('#df-99fc42d6-2ddf-403c-ae29-d6c5708d6ca0 button.colab-df-convert');\n",
              "      buttonEl.style.display =\n",
              "        google.colab.kernel.accessAllowed ? 'block' : 'none';\n",
              "\n",
              "      async function convertToInteractive(key) {\n",
              "        const element = document.querySelector('#df-99fc42d6-2ddf-403c-ae29-d6c5708d6ca0');\n",
              "        const dataTable =\n",
              "          await google.colab.kernel.invokeFunction('convertToInteractive',\n",
              "                                                    [key], {});\n",
              "        if (!dataTable) return;\n",
              "\n",
              "        const docLinkHtml = 'Like what you see? Visit the ' +\n",
              "          '<a target=\"_blank\" href=https://colab.research.google.com/notebooks/data_table.ipynb>data table notebook</a>'\n",
              "          + ' to learn more about interactive tables.';\n",
              "        element.innerHTML = '';\n",
              "        dataTable['output_type'] = 'display_data';\n",
              "        await google.colab.output.renderOutput(dataTable, element);\n",
              "        const docLink = document.createElement('div');\n",
              "        docLink.innerHTML = docLinkHtml;\n",
              "        element.appendChild(docLink);\n",
              "      }\n",
              "    </script>\n",
              "  </div>\n",
              "\n",
              "\n",
              "<div id=\"df-ffb7abd4-3ae2-49ad-8151-56fa560b2e7b\">\n",
              "  <button class=\"colab-df-quickchart\" onclick=\"quickchart('df-ffb7abd4-3ae2-49ad-8151-56fa560b2e7b')\"\n",
              "            title=\"Suggest charts.\"\n",
              "            style=\"display:none;\">\n",
              "\n",
              "<svg xmlns=\"http://www.w3.org/2000/svg\" height=\"24px\"viewBox=\"0 0 24 24\"\n",
              "     width=\"24px\">\n",
              "    <g>\n",
              "        <path d=\"M19 3H5c-1.1 0-2 .9-2 2v14c0 1.1.9 2 2 2h14c1.1 0 2-.9 2-2V5c0-1.1-.9-2-2-2zM9 17H7v-7h2v7zm4 0h-2V7h2v10zm4 0h-2v-4h2v4z\"/>\n",
              "    </g>\n",
              "</svg>\n",
              "  </button>\n",
              "\n",
              "<style>\n",
              "  .colab-df-quickchart {\n",
              "      --bg-color: #E8F0FE;\n",
              "      --fill-color: #1967D2;\n",
              "      --hover-bg-color: #E2EBFA;\n",
              "      --hover-fill-color: #174EA6;\n",
              "      --disabled-fill-color: #AAA;\n",
              "      --disabled-bg-color: #DDD;\n",
              "  }\n",
              "\n",
              "  [theme=dark] .colab-df-quickchart {\n",
              "      --bg-color: #3B4455;\n",
              "      --fill-color: #D2E3FC;\n",
              "      --hover-bg-color: #434B5C;\n",
              "      --hover-fill-color: #FFFFFF;\n",
              "      --disabled-bg-color: #3B4455;\n",
              "      --disabled-fill-color: #666;\n",
              "  }\n",
              "\n",
              "  .colab-df-quickchart {\n",
              "    background-color: var(--bg-color);\n",
              "    border: none;\n",
              "    border-radius: 50%;\n",
              "    cursor: pointer;\n",
              "    display: none;\n",
              "    fill: var(--fill-color);\n",
              "    height: 32px;\n",
              "    padding: 0;\n",
              "    width: 32px;\n",
              "  }\n",
              "\n",
              "  .colab-df-quickchart:hover {\n",
              "    background-color: var(--hover-bg-color);\n",
              "    box-shadow: 0 1px 2px rgba(60, 64, 67, 0.3), 0 1px 3px 1px rgba(60, 64, 67, 0.15);\n",
              "    fill: var(--button-hover-fill-color);\n",
              "  }\n",
              "\n",
              "  .colab-df-quickchart-complete:disabled,\n",
              "  .colab-df-quickchart-complete:disabled:hover {\n",
              "    background-color: var(--disabled-bg-color);\n",
              "    fill: var(--disabled-fill-color);\n",
              "    box-shadow: none;\n",
              "  }\n",
              "\n",
              "  .colab-df-spinner {\n",
              "    border: 2px solid var(--fill-color);\n",
              "    border-color: transparent;\n",
              "    border-bottom-color: var(--fill-color);\n",
              "    animation:\n",
              "      spin 1s steps(1) infinite;\n",
              "  }\n",
              "\n",
              "  @keyframes spin {\n",
              "    0% {\n",
              "      border-color: transparent;\n",
              "      border-bottom-color: var(--fill-color);\n",
              "      border-left-color: var(--fill-color);\n",
              "    }\n",
              "    20% {\n",
              "      border-color: transparent;\n",
              "      border-left-color: var(--fill-color);\n",
              "      border-top-color: var(--fill-color);\n",
              "    }\n",
              "    30% {\n",
              "      border-color: transparent;\n",
              "      border-left-color: var(--fill-color);\n",
              "      border-top-color: var(--fill-color);\n",
              "      border-right-color: var(--fill-color);\n",
              "    }\n",
              "    40% {\n",
              "      border-color: transparent;\n",
              "      border-right-color: var(--fill-color);\n",
              "      border-top-color: var(--fill-color);\n",
              "    }\n",
              "    60% {\n",
              "      border-color: transparent;\n",
              "      border-right-color: var(--fill-color);\n",
              "    }\n",
              "    80% {\n",
              "      border-color: transparent;\n",
              "      border-right-color: var(--fill-color);\n",
              "      border-bottom-color: var(--fill-color);\n",
              "    }\n",
              "    90% {\n",
              "      border-color: transparent;\n",
              "      border-bottom-color: var(--fill-color);\n",
              "    }\n",
              "  }\n",
              "</style>\n",
              "\n",
              "  <script>\n",
              "    async function quickchart(key) {\n",
              "      const quickchartButtonEl =\n",
              "        document.querySelector('#' + key + ' button');\n",
              "      quickchartButtonEl.disabled = true;  // To prevent multiple clicks.\n",
              "      quickchartButtonEl.classList.add('colab-df-spinner');\n",
              "      try {\n",
              "        const charts = await google.colab.kernel.invokeFunction(\n",
              "            'suggestCharts', [key], {});\n",
              "      } catch (error) {\n",
              "        console.error('Error during call to suggestCharts:', error);\n",
              "      }\n",
              "      quickchartButtonEl.classList.remove('colab-df-spinner');\n",
              "      quickchartButtonEl.classList.add('colab-df-quickchart-complete');\n",
              "    }\n",
              "    (() => {\n",
              "      let quickchartButtonEl =\n",
              "        document.querySelector('#df-ffb7abd4-3ae2-49ad-8151-56fa560b2e7b button');\n",
              "      quickchartButtonEl.style.display =\n",
              "        google.colab.kernel.accessAllowed ? 'block' : 'none';\n",
              "    })();\n",
              "  </script>\n",
              "</div>\n",
              "    </div>\n",
              "  </div>\n"
            ]
          },
          "metadata": {},
          "execution_count": 26
        }
      ]
    },
    {
      "cell_type": "code",
      "source": [
        "\n",
        "# Extract 'Close' prices for the time series\n",
        "ts_data = data['Close'].values.reshape(-1, 1)"
      ],
      "metadata": {
        "id": "MOppD2dxFdsG"
      },
      "execution_count": null,
      "outputs": []
    },
    {
      "cell_type": "code",
      "source": [
        "ts_data"
      ],
      "metadata": {
        "colab": {
          "base_uri": "https://localhost:8080/"
        },
        "id": "l6EH_-o6Fe7N",
        "outputId": "fd0b595e-cd8d-4aa3-da53-9ce48ff27531"
      },
      "execution_count": null,
      "outputs": [
        {
          "output_type": "execute_result",
          "data": {
            "text/plain": [
              "array([[ 7.64321423],\n",
              "       [ 7.65642881],\n",
              "       [ 7.53464317],\n",
              "       ...,\n",
              "       [72.44999695],\n",
              "       [72.87999725],\n",
              "       [73.41249847]])"
            ]
          },
          "metadata": {},
          "execution_count": 28
        }
      ]
    },
    {
      "cell_type": "code",
      "source": [
        "# Normalize the time series data\n",
        "scaler = MinMaxScaler(feature_range=(0, 1))\n",
        "ts_data = scaler.fit_transform(ts_data)"
      ],
      "metadata": {
        "id": "9PqJeCDXFmI9"
      },
      "execution_count": null,
      "outputs": []
    },
    {
      "cell_type": "code",
      "source": [
        "ts_data"
      ],
      "metadata": {
        "colab": {
          "base_uri": "https://localhost:8080/"
        },
        "id": "GRmGaTO8Fm-v",
        "outputId": "f6d773b4-b2a0-4e75-b6dc-b3caecbe743b"
      },
      "execution_count": null,
      "outputs": [
        {
          "output_type": "execute_result",
          "data": {
            "text/plain": [
              "array([[0.01178427],\n",
              "       [0.01198282],\n",
              "       [0.01015293],\n",
              "       ...,\n",
              "       [0.98553794],\n",
              "       [0.99199891],\n",
              "       [1.        ]])"
            ]
          },
          "metadata": {},
          "execution_count": 30
        }
      ]
    },
    {
      "cell_type": "code",
      "source": [
        "ts_data.shape"
      ],
      "metadata": {
        "colab": {
          "base_uri": "https://localhost:8080/"
        },
        "id": "3F3HTIDzFyNw",
        "outputId": "8f0720de-1ebb-49b4-885f-5b9abab7bf31"
      },
      "execution_count": null,
      "outputs": [
        {
          "output_type": "execute_result",
          "data": {
            "text/plain": [
              "(2516, 1)"
            ]
          },
          "metadata": {},
          "execution_count": 32
        }
      ]
    },
    {
      "cell_type": "code",
      "source": [
        "ts_data.ndim"
      ],
      "metadata": {
        "colab": {
          "base_uri": "https://localhost:8080/"
        },
        "id": "T3POSPszF3FW",
        "outputId": "aa350895-a9dc-412b-b671-b93fe1003ed7"
      },
      "execution_count": null,
      "outputs": [
        {
          "output_type": "execute_result",
          "data": {
            "text/plain": [
              "2"
            ]
          },
          "metadata": {},
          "execution_count": 34
        }
      ]
    },
    {
      "cell_type": "code",
      "execution_count": null,
      "metadata": {
        "colab": {
          "base_uri": "https://localhost:8080/"
        },
        "id": "Pu7i_e8u8a8g",
        "outputId": "95e580da-c8a2-43ac-9e90-ca596b525e03"
      },
      "outputs": [
        {
          "output_type": "stream",
          "name": "stdout",
          "text": [
            "Epoch 1/10\n",
            "55/55 [==============================] - 4s 9ms/step - loss: 0.0053\n",
            "Epoch 2/10\n",
            "55/55 [==============================] - 1s 9ms/step - loss: 1.2902e-04\n",
            "Epoch 3/10\n",
            "55/55 [==============================] - 1s 10ms/step - loss: 1.1735e-04\n",
            "Epoch 4/10\n",
            "55/55 [==============================] - 1s 10ms/step - loss: 1.1707e-04\n",
            "Epoch 5/10\n",
            "55/55 [==============================] - 1s 10ms/step - loss: 1.1270e-04\n",
            "Epoch 6/10\n",
            "55/55 [==============================] - 1s 10ms/step - loss: 1.1018e-04\n",
            "Epoch 7/10\n",
            "55/55 [==============================] - 1s 10ms/step - loss: 1.1493e-04\n",
            "Epoch 8/10\n",
            "55/55 [==============================] - 1s 9ms/step - loss: 1.1503e-04\n",
            "Epoch 9/10\n",
            "55/55 [==============================] - 1s 15ms/step - loss: 1.0891e-04\n",
            "Epoch 10/10\n",
            "55/55 [==============================] - 1s 25ms/step - loss: 1.1347e-04\n",
            "24/24 [==============================] - 1s 4ms/step - loss: 8.4457e-04\n",
            "24/24 [==============================] - 1s 3ms/step\n"
          ]
        }
      ],
      "source": [
        "ts\n",
        "\n",
        "\n",
        "\n",
        "\n",
        "# Prepare the time series data for training\n",
        "def prepare_data(data, time_steps):\n",
        "    X, y = [], []\n",
        "    for i in range(len(data) - time_steps - 1):\n",
        "        X.append(data[i:(i + time_steps), 0])  # Window (history) creation\n",
        "        y.append(data[i + time_steps, 0])  # Horizon (prediction)\n",
        "    return np.array(X), np.array(y)\n",
        "\n",
        "time_steps = 10  # Number of time steps to look back for predictions (window)\n",
        "X, y = prepare_data(ts_data, time_steps)\n",
        "\n",
        "# Split the data into training and testing sets\n",
        "train_size = int(len(X) * 0.7)\n",
        "X_train, X_test = X[:train_size], X[train_size:]\n",
        "y_train, y_test = y[:train_size], y[train_size:]\n",
        "\n",
        "# Reshape input data for LSTM (samples, time steps, features)\n",
        "X_train = np.reshape(X_train, (X_train.shape[0], X_train.shape[1], 1))\n",
        "X_test = np.reshape(X_test, (X_test.shape[0], X_test.shape[1], 1))\n",
        "\n",
        "# Create an LSTM model\n",
        "model = Sequential()\n",
        "model.add(LSTM(50, return_sequences=True, input_shape=(X_train.shape[1], 1)))\n",
        "model.add(LSTM(50, return_sequences=False))\n",
        "model.add(Dense(1))\n",
        "\n",
        "# Compile the model\n",
        "model.compile(optimizer='adam', loss='mean_squared_error')\n",
        "\n",
        "# Train the LSTM model\n",
        "model.fit(X_train, y_train, epochs=10, batch_size=32)\n",
        "\n",
        "# Evaluate the model\n",
        "loss = model.evaluate(X_test, y_test)\n",
        "\n",
        "# Predict using the model\n",
        "predicted_values = model.predict(X_test)\n",
        "\n",
        "# In this code, we download stock market data for Apple (AAPL) from Yahoo Finance for the period of 2010 to 2020.\n",
        "# We then use the 'Close' prices as our time series data. After normalizing the data and preparing it for LSTM training,\n",
        "# we build a model that utilizes LSTM layers to predict future stock prices based on past values.\n",
        "\n",
        "# The 'time_steps' variable represents the window size, which is the number of time steps to look back for predictions.\n",
        "# The 'y' variable represents the horizon, the number of time steps into the future we aim to predict based on the window size.\n"
      ]
    },
    {
      "cell_type": "code",
      "source": [
        "import matplotlib.pyplot as plt\n",
        "\n",
        "# Plot the original stock prices\n",
        "plt.figure(figsize=(10, 6))\n",
        "plt.plot(ts_data, label='Actual Stock Prices')\n",
        "plt.title('Apple (AAPL) Stock Prices')\n",
        "plt.xlabel('Time')\n",
        "plt.ylabel('Price')\n",
        "plt.legend()\n",
        "plt.show()\n",
        "\n",
        "# Plot the model's predictions on the test set\n",
        "plt.figure(figsize=(10, 6))\n",
        "plt.plot(y_test, label='Actual Stock Prices')\n",
        "plt.plot(predicted_values, label='Predicted Stock Prices', linestyle='--')\n",
        "plt.title('Model Predictions on Test Data')\n",
        "plt.xlabel('Time')\n",
        "plt.ylabel('Price')\n",
        "plt.legend()\n",
        "plt.show()\n"
      ],
      "metadata": {
        "colab": {
          "base_uri": "https://localhost:8080/",
          "height": 1000
        },
        "id": "99RfjF_68cmd",
        "outputId": "788db658-3f14-41d1-a701-b2aec29d57cb"
      },
      "execution_count": null,
      "outputs": [
        {
          "output_type": "display_data",
          "data": {
            "text/plain": [
              "<Figure size 1000x600 with 1 Axes>"
            ],
            "image/png": "[encoded data removed]"
          },
          "metadata": {}
        },
        {
          "output_type": "display_data",
          "data": {
            "text/plain": [
              "<Figure size 1000x600 with 1 Axes>"
            ],
            "image/png": "[encoded data removed]"
          },
          "metadata": {}
        }
      ]
    },
    {
      "cell_type": "code",
      "source": [
        "X,y\n"
      ],
      "metadata": {
        "id": "t8uJhasXEqbp",
        "colab": {
          "base_uri": "https://localhost:8080/"
        },
        "outputId": "b9b2ac77-0989-4d60-f2f8-b0c5722fb0c9"
      },
      "execution_count": null,
      "outputs": [
        {
          "output_type": "execute_result",
          "data": {
            "text/plain": [
              "(array([[0.01178427, 0.01198282, 0.01015293, ..., 0.0099812 , 0.00932653,\n",
              "         0.00744834],\n",
              "        [0.01198282, 0.01015293, 0.00994364, ..., 0.00932653, 0.00744834,\n",
              "         0.01233699],\n",
              "        [0.01015293, 0.00994364, 0.01069492, ..., 0.00744834, 0.01233699,\n",
              "         0.01056077],\n",
              "        ...,\n",
              "        [0.91405418, 0.91664608, 0.93050711, ..., 0.94662198, 0.96375103,\n",
              "         0.96476521],\n",
              "        [0.91664608, 0.93050711, 0.94819959, ..., 0.96375103, 0.96476521,\n",
              "         0.9859512 ],\n",
              "        [0.93050711, 0.94819959, 0.95026566, ..., 0.96476521, 0.9859512 ,\n",
              "         0.98553794]]),\n",
              " array([0.01233699, 0.01056077, 0.00859671, ..., 0.9859512 , 0.98553794,\n",
              "        0.99199891]))"
            ]
          },
          "metadata": {},
          "execution_count": 17
        }
      ]
    },
    {
      "cell_type": "code",
      "source": [
        "X[0], y[0]"
      ],
      "metadata": {
        "colab": {
          "base_uri": "https://localhost:8080/"
        },
        "id": "hWzf3XFCiqGx",
        "outputId": "05a13d3c-ecdd-4280-8562-d2c91d175cdc"
      },
      "execution_count": null,
      "outputs": [
        {
          "output_type": "execute_result",
          "data": {
            "text/plain": [
              "(array([0.01178427, 0.01198282, 0.01015293, 0.00994364, 0.01069492,\n",
              "        0.00969144, 0.00840889, 0.0099812 , 0.00932653, 0.00744834]),\n",
              " 0.012336989278101604)"
            ]
          },
          "metadata": {},
          "execution_count": 18
        }
      ]
    },
    {
      "cell_type": "code",
      "source": [
        "ts_data"
      ],
      "metadata": {
        "colab": {
          "base_uri": "https://localhost:8080/"
        },
        "id": "sM1usPknFJRL",
        "outputId": "b0f76c8b-bbf0-439a-9502-b69325430b2f"
      },
      "execution_count": null,
      "outputs": [
        {
          "output_type": "execute_result",
          "data": {
            "text/plain": [
              "array([[0.01178427],\n",
              "       [0.01198282],\n",
              "       [0.01015293],\n",
              "       ...,\n",
              "       [0.98553794],\n",
              "       [0.99199891],\n",
              "       [1.        ]])"
            ]
          },
          "metadata": {},
          "execution_count": 24
        }
      ]
    },
    {
      "cell_type": "markdown",
      "source": [
        "#Experiement"
      ],
      "metadata": {
        "id": "0tER2yt9EWx_"
      }
    },
    {
      "cell_type": "code",
      "source": [
        "import numpy as np"
      ],
      "metadata": {
        "id": "BslPbOA_EW4O"
      },
      "execution_count": null,
      "outputs": []
    },
    {
      "cell_type": "code",
      "source": [
        "# Prepare the time series data for training\n",
        "def prepare_data(data, time_steps):\n",
        "    X, y = [], []\n",
        "    for i in range(len(data) - time_steps - 1):\n",
        "        X.append(data[i:(i + time_steps), 0])  # Window (history) creation\n",
        "        y.append(data[i + time_steps, 0])  # Horizon (prediction)\n",
        "    return np.array(X), np.array(y)\n"
      ],
      "metadata": {
        "id": "K2Ua-ASEEBEz"
      },
      "execution_count": null,
      "outputs": []
    },
    {
      "cell_type": "code",
      "source": [
        "data2=[1,2,3,4,5,6,7,8,9,10,11,12,13,14,15]"
      ],
      "metadata": {
        "id": "nHGpfYRIisxw"
      },
      "execution_count": null,
      "outputs": []
    },
    {
      "cell_type": "code",
      "source": [
        "np_data2=np.array(data2)"
      ],
      "metadata": {
        "id": "WjGzobLREEpQ"
      },
      "execution_count": null,
      "outputs": []
    },
    {
      "cell_type": "code",
      "source": [
        "np_data2"
      ],
      "metadata": {
        "colab": {
          "base_uri": "https://localhost:8080/"
        },
        "id": "1Uau6rH0ZlrI",
        "outputId": "9aa55f3b-5d52-496e-dfe6-213ad12ca771"
      },
      "execution_count": null,
      "outputs": [
        {
          "output_type": "execute_result",
          "data": {
            "text/plain": [
              "array([ 1,  2,  3,  4,  5,  6,  7,  8,  9, 10, 11, 12, 13, 14, 15])"
            ]
          },
          "metadata": {},
          "execution_count": 128
        }
      ]
    },
    {
      "cell_type": "code",
      "source": [
        "np_data2.shape"
      ],
      "metadata": {
        "colab": {
          "base_uri": "https://localhost:8080/"
        },
        "id": "uisSTuIOGDTk",
        "outputId": "0dfb81cf-35d3-4200-ef87-8749ad873f5b"
      },
      "execution_count": null,
      "outputs": [
        {
          "output_type": "execute_result",
          "data": {
            "text/plain": [
              "(15,)"
            ]
          },
          "metadata": {},
          "execution_count": 129
        }
      ]
    },
    {
      "cell_type": "code",
      "source": [
        "np_data2.ndim"
      ],
      "metadata": {
        "colab": {
          "base_uri": "https://localhost:8080/"
        },
        "id": "DV8Sjl44GGd_",
        "outputId": "fd2fdd86-3195-4f22-80da-c68926a29e01"
      },
      "execution_count": null,
      "outputs": [
        {
          "output_type": "execute_result",
          "data": {
            "text/plain": [
              "1"
            ]
          },
          "metadata": {},
          "execution_count": 130
        }
      ]
    },
    {
      "cell_type": "code",
      "source": [
        "np_data2[1,0]"
      ],
      "metadata": {
        "colab": {
          "base_uri": "https://localhost:8080/",
          "height": 176
        },
        "id": "YfN5VfNtdLky",
        "outputId": "ad105f50-7bab-41a2-e054-921cdabb8373"
      },
      "execution_count": null,
      "outputs": [
        {
          "output_type": "error",
          "ename": "IndexError",
          "evalue": "ignored",
          "traceback": [
            "\u001b[0;31m---------------------------------------------------------------------------\u001b[0m",
            "\u001b[0;31mIndexError\u001b[0m                                Traceback (most recent call last)",
            "\u001b[0;32m<ipython-input-149-ef94025fad09>\u001b[0m in \u001b[0;36m<cell line: 1>\u001b[0;34m()\u001b[0m\n\u001b[0;32m----> 1\u001b[0;31m \u001b[0mnp_data2\u001b[0m\u001b[0;34m[\u001b[0m\u001b[0;36m1\u001b[0m\u001b[0;34m,\u001b[0m\u001b[0;36m0\u001b[0m\u001b[0;34m]\u001b[0m\u001b[0;34m\u001b[0m\u001b[0;34m\u001b[0m\u001b[0m\n\u001b[0m",
            "\u001b[0;31mIndexError\u001b[0m: too many indices for array: array is 1-dimensional, but 2 were indexed"
          ]
        }
      ]
    },
    {
      "cell_type": "code",
      "source": [
        "np_data2a=np_data2.reshape(15, 1)\n",
        "np_data2a"
      ],
      "metadata": {
        "colab": {
          "base_uri": "https://localhost:8080/"
        },
        "id": "syHPZt2ZGl5i",
        "outputId": "6d474b48-1017-4ee3-ecd2-111ce8266b7d"
      },
      "execution_count": null,
      "outputs": [
        {
          "output_type": "execute_result",
          "data": {
            "text/plain": [
              "array([[ 1],\n",
              "       [ 2],\n",
              "       [ 3],\n",
              "       [ 4],\n",
              "       [ 5],\n",
              "       [ 6],\n",
              "       [ 7],\n",
              "       [ 8],\n",
              "       [ 9],\n",
              "       [10],\n",
              "       [11],\n",
              "       [12],\n",
              "       [13],\n",
              "       [14],\n",
              "       [15]])"
            ]
          },
          "metadata": {},
          "execution_count": 100
        }
      ]
    },
    {
      "cell_type": "code",
      "source": [
        "np_data2a.shape"
      ],
      "metadata": {
        "colab": {
          "base_uri": "https://localhost:8080/"
        },
        "id": "9cKXBfbWGuzH",
        "outputId": "fe083879-8031-4242-870d-ae5db6a74cad"
      },
      "execution_count": null,
      "outputs": [
        {
          "output_type": "execute_result",
          "data": {
            "text/plain": [
              "(15, 1)"
            ]
          },
          "metadata": {},
          "execution_count": 101
        }
      ]
    },
    {
      "cell_type": "code",
      "source": [
        "np_data2a[1,0]"
      ],
      "metadata": {
        "colab": {
          "base_uri": "https://localhost:8080/"
        },
        "id": "8rDjIlaqdS5n",
        "outputId": "ce993270-aaea-4b31-f767-359aa131d4f8"
      },
      "execution_count": null,
      "outputs": [
        {
          "output_type": "execute_result",
          "data": {
            "text/plain": [
              "2"
            ]
          },
          "metadata": {},
          "execution_count": 135
        }
      ]
    },
    {
      "cell_type": "code",
      "source": [
        "# Normalize the time series data\n",
        "#scaler = MinMaxScaler(feature_range=(0, 1))\n",
        "#ts_data2a = scaler.fit_transform(np_data2a)"
      ],
      "metadata": {
        "id": "3dULFyuHHNa4"
      },
      "execution_count": null,
      "outputs": []
    },
    {
      "cell_type": "code",
      "source": [
        " ts_data2a= np_data2a\n",
        " Xa,ya= prepare_data(ts_data2a , 3)\n",
        " Xa,ya\n"
      ],
      "metadata": {
        "colab": {
          "base_uri": "https://localhost:8080/"
        },
        "id": "2iIJv1pii3wK",
        "outputId": "b778705c-650a-4880-a093-d91be030c610"
      },
      "execution_count": null,
      "outputs": [
        {
          "output_type": "execute_result",
          "data": {
            "text/plain": [
              "(array([[ 1,  2,  3],\n",
              "        [ 2,  3,  4],\n",
              "        [ 3,  4,  5],\n",
              "        [ 4,  5,  6],\n",
              "        [ 5,  6,  7],\n",
              "        [ 6,  7,  8],\n",
              "        [ 7,  8,  9],\n",
              "        [ 8,  9, 10],\n",
              "        [ 9, 10, 11],\n",
              "        [10, 11, 12],\n",
              "        [11, 12, 13]]),\n",
              " array([ 4,  5,  6,  7,  8,  9, 10, 11, 12, 13, 14]))"
            ]
          },
          "metadata": {},
          "execution_count": 70
        }
      ]
    },
    {
      "cell_type": "code",
      "source": [
        "# Prepare the time series data for training\n",
        "def prepare_data(data, time_steps):\n",
        "    X, y = [], []\n",
        "    for i in range(len(data) - time_steps - 1):\n",
        "        X.append(data[i:(i + time_steps), 0])  # Window (history) creation\n",
        "        y.append(data[i + time_steps, 0])  # Horizon (prediction)\n",
        "    return np.array(X), np.array(y)\n"
      ],
      "metadata": {
        "id": "AieUnk5RD7T3"
      },
      "execution_count": null,
      "outputs": []
    },
    {
      "cell_type": "code",
      "source": [
        "\n",
        "\n",
        "\n",
        "\n"
      ],
      "metadata": {
        "id": "uz3Ps8IlPEs8"
      },
      "execution_count": null,
      "outputs": []
    },
    {
      "cell_type": "code",
      "source": [
        "data3=[1,2,3,4,5,6,7,8,9,10,11,12,13,14,15,16]\n",
        "X, y = [],[]\n",
        "steps=3\n",
        "window=1\n",
        "for i in range(len(data3)-steps-window+1):\n",
        "  X.append(data3[i:i+steps])\n",
        "  y.append(data3[i+steps:i+steps+1])\n",
        "  #print(i)\n",
        "\n",
        "\n",
        "\n",
        "\n",
        "\n",
        "\n",
        "\n",
        "\n"
      ],
      "metadata": {
        "colab": {
          "base_uri": "https://localhost:8080/"
        },
        "id": "ytaV3yf-PNC0",
        "outputId": "3bf49ff3-9935-45b3-8f58-c2e1c743e49a"
      },
      "execution_count": null,
      "outputs": [
        {
          "output_type": "execute_result",
          "data": {
            "text/plain": [
              "[[1, 2, 3],\n",
              " [2, 3, 4],\n",
              " [3, 4, 5],\n",
              " [4, 5, 6],\n",
              " [5, 6, 7],\n",
              " [6, 7, 8],\n",
              " [7, 8, 9],\n",
              " [8, 9, 10],\n",
              " [9, 10, 11],\n",
              " [10, 11, 12],\n",
              " [11, 12, 13],\n",
              " [12, 13, 14],\n",
              " [13, 14, 15]]"
            ]
          },
          "metadata": {},
          "execution_count": 150
        }
      ]
    },
    {
      "cell_type": "code",
      "source": [
        "X[0]"
      ],
      "metadata": {
        "colab": {
          "base_uri": "https://localhost:8080/"
        },
        "id": "twKcOlu2eQZR",
        "outputId": "54b560f7-e15d-4c48-99bc-4862a8935f38"
      },
      "execution_count": null,
      "outputs": [
        {
          "output_type": "execute_result",
          "data": {
            "text/plain": [
              "[1, 2, 3]"
            ]
          },
          "metadata": {},
          "execution_count": 152
        }
      ]
    },
    {
      "cell_type": "code",
      "source": [
        "np_X=np.array(X)\n",
        "np_X"
      ],
      "metadata": {
        "colab": {
          "base_uri": "https://localhost:8080/"
        },
        "id": "kppLopBBdj7M",
        "outputId": "7610b46e-4000-43ed-b6c6-5370daeb1477"
      },
      "execution_count": null,
      "outputs": [
        {
          "output_type": "execute_result",
          "data": {
            "text/plain": [
              "array([[ 1,  2,  3],\n",
              "       [ 2,  3,  4],\n",
              "       [ 3,  4,  5],\n",
              "       [ 4,  5,  6],\n",
              "       [ 5,  6,  7],\n",
              "       [ 6,  7,  8],\n",
              "       [ 7,  8,  9],\n",
              "       [ 8,  9, 10],\n",
              "       [ 9, 10, 11],\n",
              "       [10, 11, 12],\n",
              "       [11, 12, 13],\n",
              "       [12, 13, 14],\n",
              "       [13, 14, 15]])"
            ]
          },
          "metadata": {},
          "execution_count": 143
        }
      ]
    },
    {
      "cell_type": "code",
      "source": [
        "y\n"
      ],
      "metadata": {
        "colab": {
          "base_uri": "https://localhost:8080/"
        },
        "id": "LdEyfBLNPKFu",
        "outputId": "291f1fe1-201d-4ec4-ea9e-a14d6f959cfc"
      },
      "execution_count": null,
      "outputs": [
        {
          "output_type": "execute_result",
          "data": {
            "text/plain": [
              "[[4], [5], [6], [7], [8], [9], [10], [11], [12], [13], [14], [15], [16]]"
            ]
          },
          "metadata": {},
          "execution_count": 153
        }
      ]
    },
    {
      "cell_type": "code",
      "source": [
        "np.array(y)"
      ],
      "metadata": {
        "colab": {
          "base_uri": "https://localhost:8080/"
        },
        "id": "xG-48kdWdjC9",
        "outputId": "aaeb8afb-a709-419f-fe10-8d1da13c5ae7"
      },
      "execution_count": null,
      "outputs": [
        {
          "output_type": "execute_result",
          "data": {
            "text/plain": [
              "array([[ 4],\n",
              "       [ 5],\n",
              "       [ 6],\n",
              "       [ 7],\n",
              "       [ 8],\n",
              "       [ 9],\n",
              "       [10],\n",
              "       [11],\n",
              "       [12],\n",
              "       [13],\n",
              "       [14],\n",
              "       [15],\n",
              "       [16]])"
            ]
          },
          "metadata": {},
          "execution_count": 154
        }
      ]
    },
    {
      "cell_type": "code",
      "source": [
        "data3=[1,2,3,4,5,6,7,8,9,10,11,12,13,14,15,16]\n",
        "X, y = [],[]\n",
        "\n",
        "\n",
        "def timeline_data(data, window, horizon):\n",
        "  X, y = [],[]\n",
        "  for i in range(len(data)-window-horizon+1):\n",
        "    X.append(data[i:i+window])\n",
        "    y.append(data[i+window:i+window+1])\n",
        "\n",
        "\n",
        "  np_X=np.array(X)\n",
        "  np_y=np.array(y)\n",
        "  return np_X,np_y\n",
        "\n",
        "\n",
        "def timeline_data_np(data, window, horizon):\n",
        "  X, y = [],[]\n",
        "  data=data.tolist()\n",
        "  for i in range(len(data)-window-horizon+1):\n",
        "    X.append(data[i:i+window])\n",
        "    y.append(data[i+window:i+window+1])\n",
        "\n",
        "\n",
        "\n",
        "  np_X=np.array(X)\n",
        "  np_y=np.array(y)\n",
        "  return np_X,np_y\n"
      ],
      "metadata": {
        "id": "JJIDbzv1Z3_w"
      },
      "execution_count": null,
      "outputs": []
    },
    {
      "cell_type": "code",
      "source": [
        "timeline_data_np(np.array(data3),3,1)"
      ],
      "metadata": {
        "colab": {
          "base_uri": "https://localhost:8080/"
        },
        "id": "l4bjf2zwjEDY",
        "outputId": "b4e82b0e-e5f2-48ed-94df-45109244f7e1"
      },
      "execution_count": null,
      "outputs": [
        {
          "output_type": "execute_result",
          "data": {
            "text/plain": [
              "(array([[ 1,  2,  3],\n",
              "        [ 2,  3,  4],\n",
              "        [ 3,  4,  5],\n",
              "        [ 4,  5,  6],\n",
              "        [ 5,  6,  7],\n",
              "        [ 6,  7,  8],\n",
              "        [ 7,  8,  9],\n",
              "        [ 8,  9, 10],\n",
              "        [ 9, 10, 11],\n",
              "        [10, 11, 12],\n",
              "        [11, 12, 13],\n",
              "        [12, 13, 14],\n",
              "        [13, 14, 15]]),\n",
              " array([[ 4],\n",
              "        [ 5],\n",
              "        [ 6],\n",
              "        [ 7],\n",
              "        [ 8],\n",
              "        [ 9],\n",
              "        [10],\n",
              "        [11],\n",
              "        [12],\n",
              "        [13],\n",
              "        [14],\n",
              "        [15],\n",
              "        [16]]))"
            ]
          },
          "metadata": {},
          "execution_count": 187
        }
      ]
    },
    {
      "cell_type": "code",
      "source": [
        "XX"
      ],
      "metadata": {
        "colab": {
          "base_uri": "https://localhost:8080/"
        },
        "id": "h-_DVD3cjLxM",
        "outputId": "96880f76-35a7-4325-beb3-1e802486d993"
      },
      "execution_count": null,
      "outputs": [
        {
          "output_type": "execute_result",
          "data": {
            "text/plain": [
              "array([], dtype=float64)"
            ]
          },
          "metadata": {},
          "execution_count": 171
        }
      ]
    },
    {
      "cell_type": "code",
      "source": [
        "yy"
      ],
      "metadata": {
        "colab": {
          "base_uri": "https://localhost:8080/"
        },
        "id": "OiwPfNNNjdb5",
        "outputId": "2afc23ee-7ea5-4d3d-ebd3-610b9361ec74"
      },
      "execution_count": null,
      "outputs": [
        {
          "output_type": "execute_result",
          "data": {
            "text/plain": [
              "array([], dtype=float64)"
            ]
          },
          "metadata": {},
          "execution_count": 167
        }
      ]
    },
    {
      "cell_type": "code",
      "source": [],
      "metadata": {
        "id": "Dreae0HZjeDA"
      },
      "execution_count": null,
      "outputs": []
    }
  ]
}